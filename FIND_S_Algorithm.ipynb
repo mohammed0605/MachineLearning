{
  "nbformat": 4,
  "nbformat_minor": 0,
  "metadata": {
    "colab": {
      "provenance": [],
      "authorship_tag": "ABX9TyN4E5IbdNKjv/maI2TEfvrf",
      "include_colab_link": true
    },
    "kernelspec": {
      "name": "python3",
      "display_name": "Python 3"
    },
    "language_info": {
      "name": "python"
    }
  },
  "cells": [
    {
      "cell_type": "markdown",
      "metadata": {
        "id": "view-in-github",
        "colab_type": "text"
      },
      "source": [
        "<a href=\"https://colab.research.google.com/github/mohammed0605/MachineLearning/blob/main/FIND_S_Algorithm.ipynb\" target=\"_parent\"><img src=\"https://colab.research.google.com/assets/colab-badge.svg\" alt=\"Open In Colab\"/></a>"
      ]
    },
    {
      "cell_type": "code",
      "execution_count": null,
      "metadata": {
        "colab": {
          "base_uri": "https://localhost:8080/"
        },
        "id": "xSyY19eZ8s2d",
        "outputId": "73b7eeaa-1496-4775-c3fc-3743e454983e"
      },
      "outputs": [
        {
          "output_type": "stream",
          "name": "stdout",
          "text": [
            "Final Hypothesis: ['Sunny', 'Warm', '?', 'Strong', '?', '?']\n"
          ]
        }
      ],
      "source": [
        "import pandas as pd\n",
        "\n",
        "def train_find_s(concepts, target):\n",
        "    hypothesis = ['0'] * len(concepts[0])\n",
        "\n",
        "    for i, val in enumerate(target):\n",
        "        if val.lower() == 'yes':\n",
        "            hypothesis = concepts[i].copy()\n",
        "            break\n",
        "\n",
        "    for i, val in enumerate(concepts):\n",
        "        if target[i].lower() == 'yes':\n",
        "            for attr in range(len(hypothesis)):\n",
        "                if val[attr] != hypothesis[attr]:\n",
        "                    hypothesis[attr] = '?'\n",
        "\n",
        "    return hypothesis\n",
        "\n",
        "concepts = [\n",
        "    ['Sunny', 'Warm', 'Normal', 'Strong', 'Warm', 'Same'],\n",
        "    ['Sunny', 'Warm', 'High',   'Strong', 'Warm', 'Same'],\n",
        "    ['Rainy', 'Cold', 'High',   'Strong', 'Warm', 'Change'],\n",
        "    ['Sunny', 'Warm', 'High',   'Strong', 'Cool', 'Change']\n",
        "]\n",
        "\n",
        "target = ['Yes', 'Yes', 'No', 'Yes']\n",
        "\n",
        "\n",
        "final_hypothesis = train_find_s(concepts, target)\n",
        "print(\"Final Hypothesis:\", final_hypothesis)"
      ]
    }
  ]
}